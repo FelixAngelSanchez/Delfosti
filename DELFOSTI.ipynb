{
 "cells": [
  {
   "cell_type": "code",
   "execution_count": 3,
   "id": "6113f827-2cdc-471e-8edf-66960b1cf239",
   "metadata": {},
   "outputs": [],
   "source": [
    "import os \n",
    "import pandas as pd\n",
    "import numpy as np\n",
    "import unicodedata\n",
    "import pyodbc\n",
    "from datetime import date "
   ]
  },
  {
   "cell_type": "code",
   "execution_count": 5,
   "id": "acd2f2b2-69aa-4daf-9134-e1865a6bb93b",
   "metadata": {},
   "outputs": [],
   "source": [
    "ruta_base = os.getcwd()\n",
    "ruta_csv = os.path.join(ruta_base,'Prueba Técnica', 'Data', 'netflix_titles.csv')\n",
    "df= pd.read_csv(ruta_csv)"
   ]
  },
  {
   "cell_type": "code",
   "execution_count": 7,
   "id": "44eefd8d-1030-4188-b447-5df3dadd3118",
   "metadata": {},
   "outputs": [],
   "source": [
    "df.drop_duplicates(inplace=True)"
   ]
  },
  {
   "cell_type": "code",
   "execution_count": 9,
   "id": "ed0b5185-2be5-4422-8c8f-b524a5a47bd2",
   "metadata": {},
   "outputs": [
    {
     "data": {
      "text/plain": [
       "show_id            0\n",
       "type               0\n",
       "title              0\n",
       "director        2634\n",
       "cast             825\n",
       "country          831\n",
       "date_added        10\n",
       "release_year       0\n",
       "rating             4\n",
       "duration           3\n",
       "listed_in          0\n",
       "description        0\n",
       "dtype: int64"
      ]
     },
     "execution_count": 9,
     "metadata": {},
     "output_type": "execute_result"
    }
   ],
   "source": [
    "df.isnull().sum()"
   ]
  },
  {
   "cell_type": "code",
   "execution_count": 11,
   "id": "bf848e59-12a5-4ccf-8a27-3775059033de",
   "metadata": {},
   "outputs": [],
   "source": [
    "df['director'] = df['director'].fillna(\"No Precisa\")\n",
    "df['cast'] = df['cast'].fillna(\"No Precisa\")\n",
    "df['country'] = df['country'].fillna(\"No Precisa\")\n",
    "df['rating'] = df['rating'].fillna(\"No Precisa\")\n",
    "df['duration'] = df['duration'].fillna(\"No Precisa\")"
   ]
  },
  {
   "cell_type": "code",
   "execution_count": 13,
   "id": "e28bba18-0ab5-4c7f-9988-a5b540bf7c61",
   "metadata": {},
   "outputs": [],
   "source": [
    "df['date_added'] = pd.to_datetime(df['date_added'], errors='coerce')"
   ]
  },
  {
   "cell_type": "code",
   "execution_count": 15,
   "id": "89efb4c6-c948-42ec-ba55-8df9f6a79d7e",
   "metadata": {},
   "outputs": [],
   "source": [
    "df['cast'] = df['cast'].apply(lambda x: [i.strip() for i in x.split(',')] if x else [])\n",
    "df['listed_in'] = df['listed_in'].apply(lambda x: [i.strip() for i in x.split(',')] if x else [])\n",
    "df['country'] = df['country'].apply(lambda x: [i.strip() for i in x.split(',')] if x else [])"
   ]
  },
  {
   "cell_type": "code",
   "execution_count": 17,
   "id": "5f849d2a-1de9-4b86-8a0a-4d9e3903f0c6",
   "metadata": {},
   "outputs": [],
   "source": [
    "def normalizar_texto(text):\n",
    "    if pd.isna(text):\n",
    "        return \"\"\n",
    "    text = str(text).strip()\n",
    "    text = unicodedata.normalize(\"NFKD\", text).encode(\"ascii\", \"ignore\").decode(\"utf-8\")\n",
    "    return text.title()"
   ]
  },
  {
   "cell_type": "code",
   "execution_count": 19,
   "id": "4e8ffd3b-1c15-448f-a8ab-c63b81cc3707",
   "metadata": {},
   "outputs": [],
   "source": [
    "def normalizar_cast(text):\n",
    "    if pd.isna(text):\n",
    "        return \"\"\n",
    "    text = str(text).strip()\n",
    "    text = unicodedata.normalize(\"NFKD\", text).encode(\"ascii\", \"ignore\").decode(\"utf-8\")\n",
    "    return text.title()"
   ]
  },
  {
   "cell_type": "code",
   "execution_count": 21,
   "id": "d920b283-f2c2-479d-a4db-0483967303ad",
   "metadata": {},
   "outputs": [],
   "source": [
    "df['cast'] = df['cast'].apply(\n",
    "    lambda x: ', '.join([normalizar_texto(i) for i in x]) if isinstance(x, list) else normalizar_cast(x))\n",
    "df['listed_in'] = df['listed_in'].apply(\n",
    "    lambda x: ', '.join([normalizar_texto(i) for i in x]) if isinstance(x, list) else normalizar_cast(x))\n",
    "df['country'] = df['country'].apply(\n",
    "    lambda x: ', '.join([normalizar_texto(i) for i in x]) if isinstance(x, list) else normalizar_cast(x))\n",
    "df['director'] = df['director'].apply(\n",
    "    lambda x: ', '.join([normalizar_texto(i) for i in x]) if isinstance(x, list) else normalizar_cast(x))"
   ]
  },
  {
   "cell_type": "code",
   "execution_count": 23,
   "id": "732b22fa-b970-47f5-8573-0099ea0c79a8",
   "metadata": {},
   "outputs": [],
   "source": [
    "def get_or_create_id(table, column, value):\n",
    "    if pd.isna(value) or str(value).strip() == \"\":\n",
    "        return None\n",
    "    try:\n",
    "        cursor.execute(f\"SELECT id FROM {table} WHERE {column} = ?\", (value,))\n",
    "        row = cursor.fetchone()\n",
    "        if row:\n",
    "            return row[0]\n",
    "\n",
    "        cursor.execute(f\"INSERT INTO {table} ({column}) VALUES (?)\", (value,))\n",
    "        cursor.execute(\"SELECT SCOPE_IDENTITY()\")\n",
    "        new_id = cursor.fetchone()[0]\n",
    "        conn.commit()\n",
    "        return new_id\n",
    "    except Exception as e:\n",
    "        print(f\"Error insertando en {table}: {value} -> {e}\")\n",
    "        return None"
   ]
  },
  {
   "cell_type": "code",
   "execution_count": 43,
   "id": "b54908b5-b755-4ddb-9304-1f79872a6360",
   "metadata": {},
   "outputs": [],
   "source": [
    "conn = pyodbc.connect('DRIVER={SQL Server};SERVER=DESKTOP-E4JCHGB;DATABASE=PRUEBA_DELFOSTI;Trusted_Connection=yes;')\n",
    "cursor = conn.cursor()"
   ]
  },
  {
   "cell_type": "code",
   "execution_count": 47,
   "id": "96830a6f-1bc8-4892-909b-59010f9ab2de",
   "metadata": {},
   "outputs": [],
   "source": [
    "def normalize_text(text):\n",
    "    if pd.isna(text):\n",
    "        return None\n",
    "    s = str(text).strip()\n",
    "    if not s or s.lower() == \"no precisa\":\n",
    "        return None\n",
    "    s = unicodedata.normalize(\"NFKD\", s).encode(\"ascii\", \"ignore\").decode(\"utf-8\")\n",
    "    s = s.title()\n",
    "    letters = [ch for ch in s if ch.isalpha()]\n",
    "    if len(letters) < 2:\n",
    "        return None\n",
    "    return s"
   ]
  },
  {
   "cell_type": "code",
   "execution_count": null,
   "id": "c1d37153-d324-4bbc-a1d8-2fb892b8257c",
   "metadata": {},
   "outputs": [],
   "source": [
    "def normalize_actor(text):\n",
    "    if pd.isna(text):\n",
    "        return None\n",
    "    s = str(text).strip()\n",
    "    if not s or s.lower() == \"no precisa\":\n",
    "        return None\n",
    "    s = unicodedata.normalize(\"NFKD\", s).encode(\"ascii\", \"ignore\").decode(\"utf-8\")\n",
    "    if sum(ch.isalpha() for ch in s) < 1 or len(s) < 2:\n",
    "        return None\n",
    "    return s"
   ]
  },
  {
   "cell_type": "code",
   "execution_count": null,
   "id": "0ca258b2-a66c-4ce0-85e5-84209abadeae",
   "metadata": {},
   "outputs": [],
   "source": [
    "def safe_date(value):\n",
    "    if pd.isna(value):\n",
    "        return None\n",
    "    try:\n",
    "        dt = pd.to_datetime(value).date()\n",
    "        if dt < date(1753,1,1) or dt > pd.Timestamp.today().date():\n",
    "            return None\n",
    "        return dt.isoformat()\n",
    "    except:\n",
    "        return None"
   ]
  },
  {
   "cell_type": "code",
   "execution_count": null,
   "id": "6738ea23-5392-4f34-bbe5-e0b03cc41829",
   "metadata": {},
   "outputs": [],
   "source": [
    "\n",
    "def get_or_create_id(table, column, value):\n",
    "    val = normalize_text(value)\n",
    "    if not val:\n",
    "        return None\n",
    "    cursor.execute(f\"SELECT Id FROM {table} WHERE {column} = ?\", (val,))\n",
    "    row = cursor.fetchone()\n",
    "    if row:\n",
    "        return row[0]\n",
    "    cursor.execute(f\"INSERT INTO {table} ({column}) VALUES (?)\", (val,))\n",
    "    cursor.execute(\"SELECT SCOPE_IDENTITY()\")\n",
    "    new = cursor.fetchone()\n",
    "    conn.commit()\n",
    "    return new[0] if new else None"
   ]
  },
  {
   "cell_type": "code",
   "execution_count": null,
   "id": "60d2491f-2ae9-4359-968b-30b5b7ac0e3e",
   "metadata": {},
   "outputs": [],
   "source": [
    "def insert_pelicula(row):\n",
    "    try:\n",
    "        # Preparar valores\n",
    "        id_show = row.get(\"show_id\")\n",
    "        title = normalize_text(row.get(\"title\"))\n",
    "        tipo = normalize_text(row.get(\"type\"))\n",
    "        duracion = normalize_text(row.get(\"duration\"))\n",
    "        anio = int(row[\"release_year\"]) if pd.notna(row[\"release_year\"]) else None\n",
    "        desc = row.get(\"description\")\n",
    "        fecha = safe_date(row.get(\"date_added\"))\n",
    "\n",
    "        dir_id = get_or_create_id(\"Directores\", \"Nombre\", row.get(\"director\"))\n",
    "        rate_id = get_or_create_id(\"Ratings\",   \"Nombre\", row.get(\"rating\"))\n",
    "\n",
    "      \n",
    "        cursor.execute(\"\"\"\n",
    "            INSERT INTO Pelicula (\n",
    "                Id_Show, Titulo, Tipo, Duracion, Anio_Estreno, Descripcion,\n",
    "                Id_Director, Id_Rating, Fecha\n",
    "            ) VALUES (?, ?, ?, ?, ?, ?, ?, ?, ?)\n",
    "        \"\"\", (id_show, title, tipo, duracion, anio, desc, dir_id, rate_id, fecha))\n",
    "        cursor.execute(\"SELECT SCOPE_IDENTITY()\")\n",
    "        new = cursor.fetchone()\n",
    "        pelicula_id = new[0] if new else None\n",
    "        conn.commit()\n",
    "\n",
    "      \n",
    "        cast_list = row.get(\"cast_list\", [])\n",
    "        for actor in cast_list:\n",
    "            act_id = get_or_create_id(\"Actores\", \"Nombre\", actor, normalizer=normalize_actor)\n",
    "            if act_id and pelicula_id:\n",
    "                cursor.execute(\n",
    "                \"INSERT INTO Actores_Pelicula (Id_Titulo, Id_Actor) VALUES (?, ?)\",\n",
    "                (pelicula_id, act_id)\n",
    "            )\n",
    "       \n",
    "        for pais in row.get(\"country_list\", []):\n",
    "            pais_id = get_or_create_id(\"Paises\", \"Nombre\", pais)\n",
    "            if pelicula_id and pais_id:\n",
    "                cursor.execute(\n",
    "                    \"INSERT INTO Paises_Pelicula (Id_Titulo, Id_Pais) VALUES (?, ?)\",\n",
    "                    (pelicula_id, pais_id)\n",
    "                )\n",
    "      \n",
    "        for genero in row.get(\"genres_list\", []):\n",
    "            gen_id = get_or_create_id(\"Generos\", \"Nombre\", genero)\n",
    "            if pelicula_id and gen_id:\n",
    "                cursor.execute(\n",
    "                    \"INSERT INTO Genero_Pelicula (Id_Titulo, Id_Genero) VALUES (?, ?)\",\n",
    "                    (pelicula_id, gen_id)\n",
    "                )\n",
    "\n",
    "        conn.commit()\n",
    "    except Exception as e:\n",
    "        print(f\"Error insertando '{row.get('title')}': {e}\")\n",
    "        conn.rollback()"
   ]
  },
  {
   "cell_type": "code",
   "execution_count": 49,
   "id": "8729bd7f-8f16-45b9-9350-16ed16ebf812",
   "metadata": {},
   "outputs": [],
   "source": [
    "if 'cast_list' not in df.columns:\n",
    "    df['cast_list'] = df['cast'].fillna(\"\").apply(lambda x: [i.strip() for i in x.split(',')] if x else [])\n",
    "if 'country_list' not in df.columns:\n",
    "    df['country_list'] = df['country'].fillna(\"\").apply(lambda x: [i.strip() for i in x.split(',')] if x else [])\n",
    "if 'genres_list' not in df.columns:\n",
    "    df['genres_list'] = df['listed_in'].fillna(\"\").apply(lambda x: [i.strip() for i in x.split(',')] if x else [])\n",
    "\n",
    "df['date_added'] = pd.to_datetime(df['date_added'], errors='coerce')\n",
    "df = df[df['date_added'].notna() & \n",
    "        df['date_added'].between(pd.Timestamp('1753-01-01'), pd.Timestamp.today())].copy()"
   ]
  },
  {
   "cell_type": "code",
   "execution_count": null,
   "id": "a28d6473-f7d5-4974-af47-e9a45ae55c18",
   "metadata": {},
   "outputs": [],
   "source": [
    "for _, row in df.iterrows():\n",
    "    insert_pelicula(row)\n",
    "\n",
    "cursor.close()\n",
    "conn.close()"
   ]
  }
 ],
 "metadata": {
  "kernelspec": {
   "display_name": "Python 3 (ipykernel)",
   "language": "python",
   "name": "python3"
  },
  "language_info": {
   "codemirror_mode": {
    "name": "ipython",
    "version": 3
   },
   "file_extension": ".py",
   "mimetype": "text/x-python",
   "name": "python",
   "nbconvert_exporter": "python",
   "pygments_lexer": "ipython3",
   "version": "3.12.7"
  }
 },
 "nbformat": 4,
 "nbformat_minor": 5
}
